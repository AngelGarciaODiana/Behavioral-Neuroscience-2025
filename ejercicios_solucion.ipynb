{
  "cells": [
    {
      "cell_type": "markdown",
      "metadata": {
        "id": "view-in-github",
        "colab_type": "text"
      },
      "source": [
        "<a href=\"https://colab.research.google.com/github/AngelGarciaODiana/Behavioral-Neuroscience-2025/blob/main/ejercicios_solucion.ipynb\" target=\"_parent\"><img src=\"https://colab.research.google.com/assets/colab-badge.svg\" alt=\"Open In Colab\"/></a>"
      ]
    },
    {
      "cell_type": "markdown",
      "metadata": {
        "id": "vB-fS8kiU6TI"
      },
      "source": [
        "<a href=\"https://colab.research.google.com/github/institutohumai/cursos-python/blob/master/Introduccion/1_TiposDatos/ejercicio/ejercicios-solucion.ipynb\"> <img src='https://colab.research.google.com/assets/colab-badge.svg' /> </a>\n",
        "<div align=\"center\"> Recordá abrir en una nueva pestaña </div>\n"
      ]
    },
    {
      "cell_type": "markdown",
      "metadata": {
        "id": "S9Dbb0YFU6TL"
      },
      "source": [
        "# 1- Cambiar un texto\n",
        "\n",
        "Necesitamos mostrar en nuestra web la sinopsis de las películas. El problema es que tenemos los textos separados por pipes (\"|\") en lugar de saltos de línea."
      ]
    },
    {
      "cell_type": "code",
      "execution_count": null,
      "metadata": {
        "id": "sX08LfKOU6TM"
      },
      "outputs": [],
      "source": [
        "string = 'Sinopsis | Marty McFly, un típico adolescente americano de los años ochenta, '\\\n",
        "'es accidentalmente enviado de vuelta a 1955 en una \"máquina del tiempo\" realizada con'\\\n",
        "'un DeLorean inventada por un científico un poco loco. | En este viaje, Marty debe '\\\n",
        "'asegurarse de que sus padres se encuentren y se enamoren, para que pueda volver a su tiempo. '"
      ]
    },
    {
      "cell_type": "code",
      "execution_count": null,
      "metadata": {
        "id": "8MqkYZnlU6TN",
        "outputId": "afc04658-1696-4a6b-ccd8-b63f4d0d5e5c"
      },
      "outputs": [
        {
          "name": "stdout",
          "output_type": "stream",
          "text": [
            "Sinopsis | Marty McFly, un típico adolescente americano de los años ochenta, es accidentalmente enviado de vuelta a 1955 en una \"máquina del tiempo\" realizada conun DeLorean inventada por un científico un poco loco. | En este viaje, Marty debe asegurarse de que sus padres se encuentren y se enamoren, para que pueda volver a su tiempo. \n"
          ]
        }
      ],
      "source": [
        "print(string)"
      ]
    },
    {
      "cell_type": "markdown",
      "metadata": {
        "id": "seNrSBmdU6TO"
      },
      "source": [
        "¿Cómo podríamos hacer para que la función \"print\" muestre saltos de línea en lugar de pipes?"
      ]
    },
    {
      "cell_type": "code",
      "execution_count": null,
      "metadata": {
        "id": "KP6feIwkU6TO"
      },
      "outputs": [],
      "source": [
        "string2 = string.replace('|','\\n')"
      ]
    },
    {
      "cell_type": "code",
      "execution_count": null,
      "metadata": {
        "id": "5qHzU8ZtU6TO",
        "outputId": "b9c07dd4-eea1-4381-db26-0c61e6113ca6"
      },
      "outputs": [
        {
          "name": "stdout",
          "output_type": "stream",
          "text": [
            "Sinopsis \n",
            " Marty McFly, un típico adolescente americano de los años ochenta, es accidentalmente enviado de vuelta a 1955 en una \"máquina del tiempo\" realizada conun DeLorean inventada por un científico un poco loco. \n",
            " En este viaje, Marty debe asegurarse de que sus padres se encuentren y se enamoren, para que pueda volver a su tiempo. \n"
          ]
        }
      ],
      "source": [
        "print(string2)"
      ]
    },
    {
      "cell_type": "markdown",
      "metadata": {
        "id": "pbII2lfGU6TP"
      },
      "source": [
        "# 2 - Crear un acrónimo\n",
        "\n",
        "Ahora nos piden crear un acrónimo (una palabra compuesta por la primera letra de cada palabra) de cada título. Pero antes de eso es necesario que transformemos los títulos a \"title case\" porque no todos van a llegar prolijos. Entonces, el acrónimo de \"Volver al futuro\" debería ser \"VAF\".\n"
      ]
    },
    {
      "cell_type": "code",
      "execution_count": null,
      "metadata": {
        "id": "cYF4QcseU6TP"
      },
      "outputs": [],
      "source": [
        "titulo = 'Volver al futuro'"
      ]
    },
    {
      "cell_type": "code",
      "execution_count": null,
      "metadata": {
        "id": "cVfS_FTUU6TP"
      },
      "outputs": [],
      "source": [
        "# 1. Transformar el string a \"title case\"\n",
        "\n",
        "titulo = titulo.title()"
      ]
    },
    {
      "cell_type": "code",
      "execution_count": null,
      "metadata": {
        "id": "ptkYDaImU6TQ"
      },
      "outputs": [],
      "source": [
        "# 2. Crear una lista con todas las palabras del string\n",
        "\n",
        "lista_palabras = titulo.split(' ')"
      ]
    },
    {
      "cell_type": "code",
      "execution_count": null,
      "metadata": {
        "id": "JzOehum1U6TQ",
        "outputId": "332be519-5a48-4420-b9e8-eafb2ba73d6a"
      },
      "outputs": [
        {
          "name": "stdout",
          "output_type": "stream",
          "text": [
            "VAF\n"
          ]
        }
      ],
      "source": [
        "# 3. Recorrer la lista y agregar al acrónimo la primera letra de cada palabra\n",
        "\n",
        "acronimo = ''\n",
        "for palabra in lista_palabras:\n",
        "    acronimo = acronimo + palabra[0]\n",
        "\n",
        "print(acronimo)"
      ]
    },
    {
      "cell_type": "markdown",
      "metadata": {
        "id": "lvDCS-joU6TQ"
      },
      "source": [
        "# 3 - Evaluar si un número es par o impar\n",
        "Con que operación podríamos evaluar si un número es par o impar?"
      ]
    },
    {
      "cell_type": "code",
      "execution_count": null,
      "metadata": {
        "id": "aBzIeLvMU6TQ",
        "outputId": "1fdecd2d-d523-4848-cb97-f248fa3a83ed"
      },
      "outputs": [
        {
          "name": "stdout",
          "output_type": "stream",
          "text": [
            "El número es impar.\n"
          ]
        }
      ],
      "source": [
        "numero = 3\n",
        "\n",
        "if numero % 2 == 0: # Recordemos que el operador '%' devuelve el resto de la división.\n",
        "  print('El número es par.')\n",
        "else:\n",
        "  print('El número es impar.')"
      ]
    },
    {
      "cell_type": "markdown",
      "metadata": {
        "id": "cPzs5jPyU6TQ"
      },
      "source": [
        "# 4 - Dividir pares e impartes  \n",
        "\n",
        "Dado el siguiente rango de valores enteros con distancia de una unidad:\n",
        "\n",
        "```\n",
        "range(4,10)\n",
        "```\n",
        "\n",
        "separar en listas los números pares e impares iterando por cada elemento del intervalo"
      ]
    },
    {
      "cell_type": "code",
      "execution_count": null,
      "metadata": {
        "id": "9zCDGwh3U6TQ",
        "outputId": "7b2dd687-4a24-4e31-8fb2-04f8fbb3e679"
      },
      "outputs": [
        {
          "name": "stdout",
          "output_type": "stream",
          "text": [
            "pares: [4, 6, 8] impares: [5, 7, 9]\n"
          ]
        }
      ],
      "source": [
        "pares = []\n",
        "impares = []\n",
        "\n",
        "for i in range(4,10):\n",
        "  if i%2 == 0:\n",
        "    pares.append(i)\n",
        "  else:\n",
        "    impares.append(i)\n",
        "\n",
        "print('pares:', pares, 'impares:', impares)"
      ]
    },
    {
      "cell_type": "code",
      "execution_count": null,
      "metadata": {
        "id": "Yg5zLY3gU6TR",
        "outputId": "e31f498d-15e4-4435-aa71-d3f3bed52c1b"
      },
      "outputs": [
        {
          "name": "stdout",
          "output_type": "stream",
          "text": [
            "pares: [4, 6, 8] impares: [5, 7, 9]\n"
          ]
        }
      ],
      "source": [
        "# Otra posibilidad es utilizar listas de comprensión\n",
        "\n",
        "pares = [i for i in range(4,10) if i%2 == 0]\n",
        "impares = [i for i in range(4,10) if i%2 != 0]\n",
        "\n",
        "print('pares:', pares, 'impares:', impares)"
      ]
    }
  ],
  "metadata": {
    "kernelspec": {
      "display_name": "env_humai_estudiantes",
      "language": "python",
      "name": "python3"
    },
    "language_info": {
      "codemirror_mode": {
        "name": "ipython",
        "version": 3
      },
      "file_extension": ".py",
      "mimetype": "text/x-python",
      "name": "python",
      "nbconvert_exporter": "python",
      "pygments_lexer": "ipython3",
      "version": "3.10.9"
    },
    "colab": {
      "provenance": [],
      "include_colab_link": true
    }
  },
  "nbformat": 4,
  "nbformat_minor": 0
}