{
  "cells": [
    {
      "cell_type": "markdown",
      "metadata": {
        "id": "view-in-github",
        "colab_type": "text"
      },
      "source": [
        "<a href=\"https://colab.research.google.com/github/AngelGarciaODiana/Behavioral-Neuroscience-2025/blob/main/tipos_datos.ipynb\" target=\"_parent\"><img src=\"https://colab.research.google.com/assets/colab-badge.svg\" alt=\"Open In Colab\"/></a>"
      ]
    },
    {
      "cell_type": "markdown",
      "metadata": {
        "id": "rGnlwcBF0p_t"
      },
      "source": [
        "<a href=\"https://colab.research.google.com/github/institutohumai/cursos-python/blob/master/Introduccion/1_TiposDatos/tipos-datos.ipynb\"> <img src='https://colab.research.google.com/assets/colab-badge.svg' /> </a>\n",
        "<div align=\"center\"> Recordá abrir en una nueva pestaña </div>\n"
      ]
    },
    {
      "cell_type": "code",
      "metadata": {
        "hidePrompt": false,
        "id": "9al6coO99zcc"
      },
      "source": [
        "# Introducción a la programación con Python"
      ],
      "execution_count": null,
      "outputs": []
    },
    {
      "cell_type": "markdown",
      "metadata": {
        "id": "227Fg1Q60p_v"
      },
      "source": [
        "<h1 id=\"tocheading\">Tabla de Contenidos</h1>\n",
        "<div id=\"toc\"></div>"
      ]
    },
    {
      "cell_type": "markdown",
      "metadata": {
        "id": "8FvW-oez0p_v"
      },
      "source": [
        "I. Introducción a la programación con Python\n",
        "\n",
        "II. Tabla de Contenidos\n",
        "\n",
        "    I. Python\n",
        "\n",
        "III. IDEs\n",
        "\n",
        "        I. VS Code\n",
        "        II. Pycharm\n",
        "        III. Spyder\n",
        "\n",
        "IV. Hola Jupyter!\n",
        "\n",
        "V. Declarando variables\n",
        "\n",
        "    I. Numéricos\n",
        "    II. Operaciones numéricas - Divisiones\n",
        "    III. Booleanos\n",
        "        I. Operaciones lógicas\n",
        "\n",
        "VI. Ejercicios\n",
        "\n",
        "    I. Strings\n",
        "            I. Ejercicios\n",
        "    II. Listas\n",
        "        I. Indexing y slicing en listas\n",
        "        II. Otras operaciones y métodos\n",
        "    III. Diccionarios\n",
        "    IV. Condicionales\n",
        "    V. Bucles o Loops\n",
        "        I. For loop\n",
        "        II. While loop\n",
        "    VI. Recursos y tips\n",
        "    VII. Tips en la práctica"
      ]
    },
    {
      "cell_type": "markdown",
      "metadata": {
        "hidePrompt": true,
        "id": "Gj3Cvq8m0p_v"
      },
      "source": [
        "## Python\n",
        "\n",
        "- Elegante, sencillo\n",
        "- Comunidad y accesibilidad\n",
        "- Desarrollos de estado del arte\n",
        "- Flexibilidad \"full stack\"\n",
        "- Multi-paradigma\n"
      ]
    },
    {
      "cell_type": "markdown",
      "metadata": {
        "id": "m4_ZwTn80p_w"
      },
      "source": [
        "# IDEs"
      ]
    },
    {
      "cell_type": "markdown",
      "metadata": {
        "id": "dwSXwUt80p_w"
      },
      "source": [
        "### VS Code"
      ]
    },
    {
      "cell_type": "markdown",
      "metadata": {
        "id": "QLsjCc0T0p_w"
      },
      "source": [
        "<img src='https://storage.googleapis.com/humai-datasets/aws_s3/intro_a_python/1_TiposDatos/IDE.png'></img>"
      ]
    },
    {
      "cell_type": "markdown",
      "metadata": {
        "id": "ItiHkpKm0p_w"
      },
      "source": [
        "### Pycharm"
      ]
    },
    {
      "cell_type": "markdown",
      "metadata": {
        "id": "bgC08oIC0p_w"
      },
      "source": [
        "<img src='https://storage.googleapis.com/humai-datasets/aws_s3/intro_a_python/1_TiposDatos/Pycharm.png'></img>"
      ]
    },
    {
      "cell_type": "markdown",
      "metadata": {
        "id": "lIiTKq1I0p_w"
      },
      "source": [
        "### Spyder"
      ]
    },
    {
      "cell_type": "markdown",
      "metadata": {
        "id": "73VHe1OJ0p_w"
      },
      "source": [
        "<img src='https://storage.googleapis.com/humai-datasets/aws_s3/intro_a_python/1_TiposDatos/spyder.png'></img>"
      ]
    },
    {
      "cell_type": "markdown",
      "metadata": {
        "id": "zz37KJbi7Adx"
      },
      "source": [
        "# Hola Jupyter!\n",
        "\n",
        "En esta _notebook_ conoceremos el entorno Jupyter (o Google Colaboratory, una versión online gratuita), interfaz incluida en la instalación de Python ampliamente usada para Data Science llamada <a href=\"https://www.anaconda.com/products/individual\"/> Anaconda </a>. Para seguir el curso offline, luego de descargar e instalar Anaconda, si usan Windows deberán buscar el programa en su computadora y ejecutar Jupyter.\n",
        "\n",
        "Si están en una distribución de linux o Mac pueden ejecutar en la terminal:\n",
        "\n",
        "> jupyter notebook\n",
        "\n",
        "Cada una de estas _celdas_ funciona como un bloque donde podemos escribir texto plano, Latex, HTML, además de ejecutar código Python, R, bash y otros.\n",
        "\n",
        "$$\\bar{x} = \\frac{1}{n} \\sum_{i=1}^n x_i$$"
      ]
    },
    {
      "cell_type": "markdown",
      "metadata": {
        "id": "AcoLjYP-NWpd"
      },
      "source": [
        "# Declarando variables <a name=\"section-2\"></a>"
      ]
    },
    {
      "cell_type": "markdown",
      "metadata": {
        "id": "oFtrilzdZHCG"
      },
      "source": [
        "Existen distintos tipos de variables:\n",
        "- int: entero\n",
        "- float: punto flotante\n",
        "- string: cadena de caracteres\n",
        "- bool: booleano, 0, 1, True o False\n",
        "\n",
        "Y estructuras de datos, como:\n",
        "  - list: lista de elementos (de cualquier tipo, incluida otra lista)\n",
        "  - dict: \"diccionario\", conjunto de pares llave:valor\n",
        "\n",
        "Veamos un primer ejemplo"
      ]
    },
    {
      "cell_type": "code",
      "execution_count": null,
      "metadata": {
        "id": "dFD_GFqB0p_x"
      },
      "outputs": [],
      "source": [
        "primera_variable = 'Hola mundo!'\n",
        "\n",
        "print(primera_variable)"
      ]
    },
    {
      "cell_type": "markdown",
      "metadata": {
        "id": "6X3tBXCb0p_x"
      },
      "source": [
        "Declaramos una variable llamada *primera_variable* asignándole el valor de \"Hola mundo!\". La **función print** toma entre paréntesis esa variable y muestra el valor en pantalla."
      ]
    },
    {
      "cell_type": "markdown",
      "metadata": {
        "id": "co6ZjTNo0p_x"
      },
      "source": [
        "En Jupyter la última línea de una celda se imprime al ejecutar..."
      ]
    },
    {
      "cell_type": "code",
      "execution_count": null,
      "metadata": {
        "id": "GfU3qND80p_x"
      },
      "outputs": [],
      "source": [
        "primera_variable"
      ]
    },
    {
      "cell_type": "markdown",
      "metadata": {
        "id": "ccQ8XpcG0p_x"
      },
      "source": [
        "## Numéricos"
      ]
    },
    {
      "cell_type": "markdown",
      "metadata": {
        "id": "y4mzuyAb0p_x"
      },
      "source": [
        "Declaramos dos variables de tipo numérico:"
      ]
    },
    {
      "cell_type": "code",
      "execution_count": null,
      "metadata": {
        "hidePrompt": true,
        "id": "mfxF76C4ZGJK"
      },
      "outputs": [],
      "source": [
        "x = 5\n",
        "y = 17"
      ]
    },
    {
      "cell_type": "markdown",
      "metadata": {
        "id": "KI-t5uox0p_y"
      },
      "source": [
        "Podemos hacer las operaciones numéricas usuales:"
      ]
    },
    {
      "cell_type": "code",
      "execution_count": null,
      "metadata": {
        "hidePrompt": true,
        "id": "SVW5Eq_60p_y"
      },
      "outputs": [],
      "source": [
        "print(x+y) # suma\n",
        "print(x*2) # multiplicacion\n",
        "print(x**(1/2)) # elevado a"
      ]
    },
    {
      "cell_type": "markdown",
      "metadata": {
        "id": "WsJSqKW90p_y"
      },
      "source": [
        "## Operaciones numéricas - Divisiones"
      ]
    },
    {
      "cell_type": "markdown",
      "metadata": {
        "id": "t2F-fsKG0p_y"
      },
      "source": [
        "Devuelve la división:"
      ]
    },
    {
      "cell_type": "code",
      "execution_count": null,
      "metadata": {
        "id": "guHtBUYO0p_y"
      },
      "outputs": [],
      "source": [
        "print(y / x)"
      ]
    },
    {
      "cell_type": "markdown",
      "metadata": {
        "id": "bDHEFBLr0p_y"
      },
      "source": [
        "Devuelve la parte entera de la división:"
      ]
    },
    {
      "cell_type": "code",
      "execution_count": null,
      "metadata": {
        "id": "g7Q4fopQ0p_y"
      },
      "outputs": [],
      "source": [
        "print(y // x)"
      ]
    },
    {
      "cell_type": "markdown",
      "metadata": {
        "id": "ZbTlKMp80p_y"
      },
      "source": [
        "Devuelve el resto:"
      ]
    },
    {
      "cell_type": "code",
      "execution_count": null,
      "metadata": {
        "id": "C9TjGilw0p_y"
      },
      "outputs": [],
      "source": [
        "print(y % x)"
      ]
    },
    {
      "cell_type": "markdown",
      "metadata": {
        "id": "_p1TwJ3W0p_y"
      },
      "source": [
        "Otros ejemplos:"
      ]
    },
    {
      "cell_type": "code",
      "execution_count": null,
      "metadata": {
        "hidePrompt": true,
        "id": "Lu_2i-Hn0p_y"
      },
      "outputs": [],
      "source": [
        "un_string = 'variable de ejemplo'\n",
        "un_bool = True"
      ]
    },
    {
      "cell_type": "markdown",
      "metadata": {
        "id": "Mw74RhM00p_y"
      },
      "source": [
        "La **función** _type_ recibe de **argumento** una **variable** y **devuelve** su tipo"
      ]
    },
    {
      "cell_type": "code",
      "execution_count": null,
      "metadata": {
        "id": "WiECpvLB0p_y"
      },
      "outputs": [],
      "source": [
        "type(x), type(y)"
      ]
    },
    {
      "cell_type": "markdown",
      "metadata": {
        "id": "oaQhTQZA0p_y"
      },
      "source": [
        "Intentemos la siguiente suma..."
      ]
    },
    {
      "cell_type": "code",
      "execution_count": null,
      "metadata": {
        "id": "OXFoRCxX0p_y"
      },
      "outputs": [],
      "source": [
        "5 + \"10\""
      ]
    },
    {
      "cell_type": "markdown",
      "metadata": {
        "id": "srHC7U1E0p_y"
      },
      "source": [
        "¿Qué paso?"
      ]
    },
    {
      "cell_type": "markdown",
      "metadata": {
        "id": "uSHGmzs60p_y"
      },
      "source": [
        "Si **convertimos** el string \"10\" a tipo int"
      ]
    },
    {
      "cell_type": "code",
      "execution_count": null,
      "metadata": {
        "id": "1534aRg20p_1"
      },
      "outputs": [],
      "source": [
        "5 + int('10')"
      ]
    },
    {
      "cell_type": "markdown",
      "metadata": {
        "id": "hVICzG1H0p_2"
      },
      "source": [
        "Cada tipo de variable responde a ciertos **métodos**. Veamos las operaciones lógicas, que utilizan **booleanos**"
      ]
    },
    {
      "cell_type": "markdown",
      "metadata": {
        "id": "AHniPuI50p_2"
      },
      "source": [
        "## Booleanos"
      ]
    },
    {
      "cell_type": "markdown",
      "metadata": {
        "id": "QhNYzTuk0p_2"
      },
      "source": [
        "### Operaciones lógicas"
      ]
    },
    {
      "cell_type": "code",
      "execution_count": null,
      "metadata": {
        "id": "bpJvYpHW0p_2"
      },
      "outputs": [],
      "source": [
        "print(10 >= 9)"
      ]
    },
    {
      "cell_type": "code",
      "execution_count": null,
      "metadata": {
        "id": "r1Uw4YgW0p_2"
      },
      "outputs": [],
      "source": [
        "print(\"palabra\" == \"palabra\")\n",
        "print(\"otras palabras\" != \"otras palabras\")"
      ]
    },
    {
      "cell_type": "code",
      "execution_count": null,
      "metadata": {
        "id": "0L8gxX3X0p_2"
      },
      "outputs": [],
      "source": [
        "print(\"test\" in \"testing\")\n",
        "\n",
        "a = 'testing'\n",
        "\n",
        "print('test' in a)"
      ]
    },
    {
      "cell_type": "markdown",
      "metadata": {
        "id": "OQhlrs3C0p_2"
      },
      "source": [
        "Los operadores disponibles son:\n",
        "\n",
        "    Relacionales:\n",
        "    - >= , <=, <, > : Mayor o igual, menor o igual, mayor o menor\n",
        "    - != , == : Distinto, Igual\n",
        "    - in : Contenido por\n",
        "    Lógicos:\n",
        "    - not o ~ : Negación\n",
        "    - and o & : Ambas verdaderas\n",
        "    - or o | : Una u otra es verdadera\n",
        "\n",
        "Como booleanos, se pueden utilizar tanto 0 y 1 como True y False."
      ]
    },
    {
      "cell_type": "markdown",
      "metadata": {
        "id": "zZ-SrQ5C0p_2"
      },
      "source": [
        "# Ejercicios <a name=\"section-3\"></a>\n",
        "\n",
        "\n",
        "1- Definan a = 5, b = 7 y c = 8\n",
        "\n",
        "Prueben las siguientes operaciones booleanas:\n",
        "\n",
        "2- a > b\n",
        "\n",
        "3- a < b\n",
        "\n",
        "4- a + b < c\n",
        "\n",
        "5- (a + b > c) | (a + b < c) --> a + b o es mayor a c o es menor\n",
        "\n",
        "6- (a + b > c) & (a + b < c) --> a + b es mayor a c y es menor a c"
      ]
    },
    {
      "cell_type": "markdown",
      "metadata": {
        "id": "4y9Jn6FC0p_2"
      },
      "source": [
        "## Strings <a name=\"section-4\"></a>"
      ]
    },
    {
      "cell_type": "code",
      "execution_count": null,
      "metadata": {
        "id": "edHLp_Ec0p_2"
      },
      "outputs": [],
      "source": [
        "\"dos strings se pueden \" + \"sumar\""
      ]
    },
    {
      "cell_type": "markdown",
      "metadata": {
        "id": "acLUTX3T0p_2"
      },
      "source": [
        "Podemos acceder a ellos mediante **índices**. Los mismos funcionan para cualquier **iterable**, que es un objeto con muchos elementos que son accesibles secuencialmente. Podemos usar los índices para acceder a una posición determinada, pasándola entre corchetes [posición]. Es IMPORTANTE mencionar que en Python la primera posición tiene el índice 0 (y no 1)."
      ]
    },
    {
      "cell_type": "code",
      "execution_count": null,
      "metadata": {
        "id": "1XGIpatG0p_2"
      },
      "outputs": [],
      "source": [
        "texto = \"programación en python\""
      ]
    },
    {
      "cell_type": "code",
      "execution_count": null,
      "metadata": {
        "id": "IlnvJKSz0p_2"
      },
      "outputs": [],
      "source": [
        "texto[0]"
      ]
    },
    {
      "cell_type": "markdown",
      "metadata": {
        "id": "N6Re6bcD0p_2"
      },
      "source": [
        "También podemos usar los índices para traer más de un elemento al mismo tiempo, usando el **slicing**. El slicing lleva tres parámetros: comienzo (start), final (stop) e intervalo o paso (step).\n",
        "\n",
        "- El parámetro comienzo (start) indica la primera posición incluida en la selección, por default es 0.\n",
        "\n",
        "- El parámetro final (stop) es la primera posición que NO va a estar incluída, por default se incluyen todos los elementos.\n",
        "\n",
        "- El parámetro intervalo o paso (step), es optativo e indica el tamaño del paso entre seleccionar un elemento y el siguiente, por default el paso es 1. El paso también puede ser negativo, en este caso contamos desde el final hacia el comienzo, esto es muy útil para dar vuelta los strings...\n",
        "\n",
        "\n",
        "    [comienzo : final : intervalo] (en inglés es [start : stop : step] )\n",
        "\n",
        "\n",
        "El intervalo que se recibe es semi-abierto (indice_primero, indice_segundo], es decir se incluye el primero y no el segundo valor. Se admiten números negativos, que contabilizan desde el final."
      ]
    },
    {
      "cell_type": "code",
      "execution_count": null,
      "metadata": {
        "id": "0mVKmaKe0p_2"
      },
      "outputs": [],
      "source": [
        "texto[:]"
      ]
    },
    {
      "cell_type": "code",
      "execution_count": null,
      "metadata": {
        "id": "SN-4-JTR0p_2"
      },
      "outputs": [],
      "source": [
        "texto[:1]"
      ]
    },
    {
      "cell_type": "code",
      "execution_count": null,
      "metadata": {
        "id": "BPlyrJ_C0p_2"
      },
      "outputs": [],
      "source": [
        "texto[1:4]"
      ]
    },
    {
      "cell_type": "code",
      "execution_count": null,
      "metadata": {
        "id": "w_TGn4o20p_3"
      },
      "outputs": [],
      "source": [
        "texto[::-1]"
      ]
    },
    {
      "cell_type": "markdown",
      "metadata": {
        "id": "xKF1aWZ80p_3"
      },
      "source": [
        "Ejercicio\n",
        "\n",
        "1- Dado ese string devuelvan únicamente la palabra python usando slicing"
      ]
    },
    {
      "cell_type": "code",
      "execution_count": null,
      "metadata": {
        "id": "osXBG4vv0p_3"
      },
      "outputs": [],
      "source": [
        "texto"
      ]
    },
    {
      "cell_type": "code",
      "execution_count": null,
      "metadata": {
        "id": "I7Z0qIho0p_3"
      },
      "outputs": [],
      "source": [
        "texto[16:23]"
      ]
    },
    {
      "cell_type": "code",
      "execution_count": null,
      "metadata": {
        "id": "XenKGVI20p_3"
      },
      "outputs": [],
      "source": [
        "texto[16:23]"
      ]
    },
    {
      "cell_type": "code",
      "execution_count": null,
      "metadata": {
        "id": "F2NlqvON0p_3"
      },
      "outputs": [],
      "source": [
        "texto[-6:]"
      ]
    },
    {
      "cell_type": "code",
      "execution_count": null,
      "metadata": {
        "id": "drYbxaAt0p_3"
      },
      "outputs": [],
      "source": [
        "texto[-6:23:1]"
      ]
    },
    {
      "cell_type": "markdown",
      "metadata": {
        "id": "_ZZGBKwj0p_3"
      },
      "source": [
        "Veamos algunos otros métodos de los strings"
      ]
    },
    {
      "cell_type": "code",
      "execution_count": null,
      "metadata": {
        "id": "0xsTDuPs0p_3"
      },
      "outputs": [],
      "source": [
        "texto.upper()"
      ]
    },
    {
      "cell_type": "code",
      "execution_count": null,
      "metadata": {
        "id": "ebffk9ea0p_3"
      },
      "outputs": [],
      "source": [
        "texto.title()"
      ]
    },
    {
      "cell_type": "code",
      "execution_count": null,
      "metadata": {
        "id": "WnXTIBvd0p_3"
      },
      "outputs": [],
      "source": [
        "texto.split() # Devuelve una lista, de ésto vamos a hablar a continuación"
      ]
    },
    {
      "cell_type": "markdown",
      "metadata": {
        "id": "QpFKxC0O0p_3"
      },
      "source": [
        "Otras formas de combinar variables y texto..."
      ]
    },
    {
      "cell_type": "markdown",
      "metadata": {
        "id": "H75_DQ_v0p_3"
      },
      "source": [
        "Rellenamos un string con **.format(query, modales)**:"
      ]
    },
    {
      "cell_type": "code",
      "execution_count": null,
      "metadata": {
        "id": "Bs204NhI0p_3"
      },
      "outputs": [],
      "source": [
        "tema = 'data science'\n",
        "modales = 'por favor'\n",
        "\n",
        "'Dame información de {0} si esta disponible, {1}'.format(tema, modales)"
      ]
    },
    {
      "cell_type": "code",
      "execution_count": null,
      "metadata": {
        "id": "TwT8SvAl0p_3"
      },
      "outputs": [],
      "source": [
        "#Otra manera\n",
        "print(f'Dame información de {tema.upper()} si esta disponible, {modales}')"
      ]
    },
    {
      "cell_type": "markdown",
      "metadata": {
        "id": "sRpJ4vfQ0p_4"
      },
      "source": [
        "Otros métodos a mencionar son:"
      ]
    },
    {
      "cell_type": "code",
      "execution_count": null,
      "metadata": {
        "id": "kskECW3L0p_4"
      },
      "outputs": [],
      "source": [
        "\"1000\".isdigit()"
      ]
    },
    {
      "cell_type": "code",
      "execution_count": null,
      "metadata": {
        "id": "JcF98sE40p_4"
      },
      "outputs": [],
      "source": [
        "texto.replace(' ', '...')"
      ]
    },
    {
      "cell_type": "code",
      "execution_count": null,
      "metadata": {
        "id": "HwdG-D1M0p_4"
      },
      "outputs": [],
      "source": [
        "\"   quitando espacios  \".strip()"
      ]
    },
    {
      "cell_type": "code",
      "execution_count": null,
      "metadata": {
        "id": "3bPVBfKa0p_4"
      },
      "outputs": [],
      "source": [
        "texto = \"Me gusta el 37\" # Piso el contenido de la variable para hacer otras pruebas\n",
        "texto.isalpha()"
      ]
    },
    {
      "cell_type": "code",
      "execution_count": null,
      "metadata": {
        "id": "UDPrGBww0p_4"
      },
      "outputs": [],
      "source": [
        "texto = \"Me\" # Piso el contenido de la variable\n",
        "texto.isalpha()"
      ]
    },
    {
      "cell_type": "markdown",
      "metadata": {
        "id": "6DMZykAE0p_4"
      },
      "source": [
        "#### Ejercicios <a name=\"section-5\"></a>\n",
        "\n",
        "1- Concatenar los string \"hola\" y \"qué tal\", separando ambos strings con un espacio (Tip: un espacio es: \" \")\n",
        "\n",
        "2- Guardar el resultado anterior en una variable y pasar el texto a mayúsculas."
      ]
    },
    {
      "cell_type": "code",
      "execution_count": null,
      "metadata": {
        "id": "FY5_xzCu0p_4"
      },
      "outputs": [],
      "source": [
        "# Ejercicio 1"
      ]
    },
    {
      "cell_type": "code",
      "execution_count": null,
      "metadata": {
        "id": "B3toCGZe0p_4"
      },
      "outputs": [],
      "source": [
        "# Ejercicio 2"
      ]
    },
    {
      "cell_type": "markdown",
      "metadata": {
        "id": "zi-QAz7w0p_4"
      },
      "source": [
        "## Listas <a name=\"section-6\"></a>\n",
        "\n",
        "Las listas son un conjunto de elementos ordenados. Estos elementos pueden ser de cualquier tipo, incluyendo otras listas. Veamos algunas operaciones con ellas."
      ]
    },
    {
      "cell_type": "code",
      "execution_count": null,
      "metadata": {
        "scrolled": true,
        "id": "adgLSydK0p_4"
      },
      "outputs": [],
      "source": [
        "amigos = ['Mateo', 'Nico', 'Claudia', 'Ernestina', 'Paola']"
      ]
    },
    {
      "cell_type": "markdown",
      "metadata": {
        "id": "oMhvzrYn0p_4"
      },
      "source": [
        "### Indexing y slicing en listas"
      ]
    },
    {
      "cell_type": "markdown",
      "metadata": {
        "id": "Lnm95oNt0p_4"
      },
      "source": [
        "De la misma forma que con los strings en el contexto de la listas generalmente hablamos de **indexación** o acceso por índice a la acción de encontrar un valor según su posición en la lista.\n",
        "\n",
        "Importantísimo (sí, ¡una vez más!): En Python el primer elemento se indexa con el valor 0. Es decir, si queremos el primer valor de una lista tenemos que llamar a la posición 0."
      ]
    },
    {
      "cell_type": "code",
      "execution_count": null,
      "metadata": {
        "id": "hj2gZDnf0p_4"
      },
      "outputs": [],
      "source": [
        "amigos[0]"
      ]
    },
    {
      "cell_type": "markdown",
      "metadata": {
        "id": "GGeC2W9d0p_4"
      },
      "source": [
        "Además, el último elemento se indexa como -1, el siguiente -2 y así sucesivamente. Entonces para acceder al último elemento:"
      ]
    },
    {
      "cell_type": "code",
      "execution_count": null,
      "metadata": {
        "id": "pZQ-Woeo0p_4"
      },
      "outputs": [],
      "source": [
        "amigos[-1]"
      ]
    },
    {
      "cell_type": "markdown",
      "metadata": {
        "id": "RSfoZG3g0p_4"
      },
      "source": [
        "Además, podemos acceder a varios elementos en simultáneo, usando el **slicing** de la misma manera que con strings.\n",
        "\n",
        "El slicing aplicado a una lista nos devuelve una **lista**.\n",
        "\n",
        "Veamos algunos ejemplos:"
      ]
    },
    {
      "cell_type": "code",
      "execution_count": null,
      "metadata": {
        "id": "bm7Bk6Ht0p_4"
      },
      "outputs": [],
      "source": [
        "amigos[:] # arranco en 0 hasta el final, con el paso default (1)"
      ]
    },
    {
      "cell_type": "code",
      "execution_count": null,
      "metadata": {
        "id": "a2dyDIxH0p_4"
      },
      "outputs": [],
      "source": [
        "amigos[:1] # arranco en 0 y el primero sin incluir es el 1, con el paso default (1)"
      ]
    },
    {
      "cell_type": "code",
      "execution_count": null,
      "metadata": {
        "id": "tIp9Mykz0p_5"
      },
      "outputs": [],
      "source": [
        "amigos[:-1] # excluímos el último elemento"
      ]
    },
    {
      "cell_type": "code",
      "execution_count": null,
      "metadata": {
        "id": "v-SM-y-B0p_5"
      },
      "outputs": [],
      "source": [
        "amigos[::2] # salteamos un elemento a la vez"
      ]
    },
    {
      "cell_type": "markdown",
      "metadata": {
        "id": "zQmGJN210p_5"
      },
      "source": [
        "Ejercicios:\n",
        "\n",
        "1- ¿Es el resultado de amigos[:1] igual al de acceder directamente a la primera posición?\n",
        "\n",
        "2- Recorrer la lista de elementos de atrás para adelante.\n",
        "\n",
        "3- Seleccionar del 3er elemento al 4to elemento."
      ]
    },
    {
      "cell_type": "markdown",
      "metadata": {
        "id": "ELY-9YRg0p_5"
      },
      "source": [
        "### Otras operaciones y métodos"
      ]
    },
    {
      "cell_type": "markdown",
      "metadata": {
        "id": "o-8qHS0I0p_5"
      },
      "source": [
        "Agregar un nuevo elemento:"
      ]
    },
    {
      "cell_type": "code",
      "execution_count": null,
      "metadata": {
        "id": "O0q1Q7zd0p_5"
      },
      "outputs": [],
      "source": [
        "amigos.append('Chicharito')\n",
        "print(amigos)\n",
        "\n",
        "amigos = amigos + ['Chicharito']\n",
        "\n",
        "x = 10\n",
        "\n",
        "x = x + 3\n",
        "\n",
        "x"
      ]
    },
    {
      "cell_type": "markdown",
      "metadata": {
        "id": "nK5AXROI0p_5"
      },
      "source": [
        "Sumamos otra lista:"
      ]
    },
    {
      "cell_type": "code",
      "execution_count": null,
      "metadata": {
        "id": "eJ-z7USL0p_5"
      },
      "outputs": [],
      "source": [
        "amigos = amigos + ['Pipi', 'Toto']\n",
        "print(amigos)"
      ]
    },
    {
      "cell_type": "markdown",
      "metadata": {
        "id": "kUInkAa30p_5"
      },
      "source": [
        "Unir una lista con un separador dado:"
      ]
    },
    {
      "cell_type": "code",
      "execution_count": null,
      "metadata": {
        "id": "ceO_smKO0p_5"
      },
      "outputs": [],
      "source": [
        "ejemplo = ['valor1', 'valor2', 'valor3']\n",
        "';'.join(ejemplo)"
      ]
    },
    {
      "cell_type": "markdown",
      "metadata": {
        "id": "vs5Li1kb0p_5"
      },
      "source": [
        "El ejercicio 1 se podría haber resuelto usando .join así:"
      ]
    },
    {
      "cell_type": "code",
      "execution_count": null,
      "metadata": {
        "id": "j7xFiDQV0p_5"
      },
      "outputs": [],
      "source": [
        "\" \".join([\"hola\", \"qué tal\"])"
      ]
    },
    {
      "cell_type": "markdown",
      "metadata": {
        "id": "6S-ddJDs0p_6"
      },
      "source": [
        "Borrado por valor:"
      ]
    },
    {
      "cell_type": "code",
      "execution_count": null,
      "metadata": {
        "id": "IcjdTENx0p_6"
      },
      "outputs": [],
      "source": [
        "amigos.remove('Mateo')\n",
        "print(amigos)"
      ]
    },
    {
      "cell_type": "markdown",
      "metadata": {
        "id": "DUkyQQ180p_6"
      },
      "source": [
        "Borrado por índice:"
      ]
    },
    {
      "cell_type": "code",
      "execution_count": null,
      "metadata": {
        "scrolled": true,
        "id": "ECxFMK7c0p_6"
      },
      "outputs": [],
      "source": [
        "del amigos[0]\n",
        "print(amigos)"
      ]
    },
    {
      "cell_type": "markdown",
      "metadata": {
        "id": "ALFAwA4z0p_6"
      },
      "source": [
        "Devuelve un elemento y lo borra de la lista:"
      ]
    },
    {
      "cell_type": "code",
      "execution_count": null,
      "metadata": {
        "id": "wOCeRoDI0p_6"
      },
      "outputs": [],
      "source": [
        "valor = amigos.pop(0)"
      ]
    },
    {
      "cell_type": "code",
      "execution_count": null,
      "metadata": {
        "id": "3b3WzoEs0p_6"
      },
      "outputs": [],
      "source": [
        "edades = [30, 40, 38, 30, 37]"
      ]
    },
    {
      "cell_type": "markdown",
      "metadata": {
        "id": "rsnJWTcD0p_6"
      },
      "source": [
        "Cantidad de apariciones:"
      ]
    },
    {
      "cell_type": "code",
      "execution_count": null,
      "metadata": {
        "id": "3f9LmBvK0p_6"
      },
      "outputs": [],
      "source": [
        "print(edades.count(30))"
      ]
    },
    {
      "cell_type": "markdown",
      "metadata": {
        "id": "3m5HNmV00p_6"
      },
      "source": [
        "Largo de la lista:"
      ]
    },
    {
      "cell_type": "code",
      "execution_count": null,
      "metadata": {
        "id": "NLzDgE5a0p_6"
      },
      "outputs": [],
      "source": [
        "print(len(edades))"
      ]
    },
    {
      "cell_type": "markdown",
      "metadata": {
        "id": "h6-j8s1l0p_6"
      },
      "source": [
        "Ordenar la lista:"
      ]
    },
    {
      "cell_type": "code",
      "execution_count": null,
      "metadata": {
        "id": "TnYp_ZhZ0p_6"
      },
      "outputs": [],
      "source": [
        "sorted(edades)"
      ]
    },
    {
      "cell_type": "markdown",
      "metadata": {
        "id": "y-0k46ma0p_6"
      },
      "source": [
        "Sumar el total:"
      ]
    },
    {
      "cell_type": "code",
      "execution_count": null,
      "metadata": {
        "id": "uKgliAJi0p_6"
      },
      "outputs": [],
      "source": [
        "print(sum(edades))"
      ]
    },
    {
      "cell_type": "markdown",
      "metadata": {
        "id": "v1sTsuwk0p_6"
      },
      "source": [
        "Mínimo:"
      ]
    },
    {
      "cell_type": "code",
      "execution_count": null,
      "metadata": {
        "id": "Uwe6DwMp0p_6"
      },
      "outputs": [],
      "source": [
        "print(min(edades))"
      ]
    },
    {
      "cell_type": "markdown",
      "metadata": {
        "id": "Mnvvt0eW0p_7"
      },
      "source": [
        "Máximo:"
      ]
    },
    {
      "cell_type": "code",
      "execution_count": null,
      "metadata": {
        "id": "s54Emq1p0p_7"
      },
      "outputs": [],
      "source": [
        "print(max(edades))"
      ]
    },
    {
      "cell_type": "markdown",
      "metadata": {
        "id": "r_VtaAk20p_7"
      },
      "source": [
        "Ejercicio: <a name=\"section-7\"></a>\n",
        "\n",
        "1- Calcular el promedio de edad de la lista \"edades\"\n"
      ]
    },
    {
      "cell_type": "code",
      "execution_count": null,
      "metadata": {
        "id": "Gp2GNolw0p_7"
      },
      "outputs": [],
      "source": [
        "# Ejercicio 1"
      ]
    },
    {
      "cell_type": "markdown",
      "metadata": {
        "id": "Yf4i5TUz0p_7"
      },
      "source": [
        "## Diccionarios <a name=\"section-8\"></a>\n",
        "\n",
        "Los diccionarios consisten en estructuras que contienen pares de una **llave** y un **valor**. Los elementos NO están ordenados, con lo cual no se puede acceder por posición ni slicing.\n",
        "\n",
        "Veamos un ejemplo"
      ]
    },
    {
      "cell_type": "code",
      "execution_count": null,
      "metadata": {
        "id": "qCjuG1Fu0p_7"
      },
      "outputs": [],
      "source": [
        "dnis = {'Herrera':32676585, 'Guzmán':9564787,\n",
        "        'Pérez':5676898, 'Hernández':40565999,\n",
        "        'Abraham':28375814,\n",
        "       \"soy_una_llave\":\"soy_un_valor\"}"
      ]
    },
    {
      "cell_type": "markdown",
      "metadata": {
        "id": "l-zTN41l0p_7"
      },
      "source": [
        "Sin embargo, sí podemos acceder a un elemento por su llave. Accedemos al valor de \"Abraham\""
      ]
    },
    {
      "cell_type": "code",
      "execution_count": null,
      "metadata": {
        "id": "BSAVWymM0p_7"
      },
      "outputs": [],
      "source": [
        "dnis['Abraham'] # noten que se usa la misma notación que con las listas"
      ]
    },
    {
      "cell_type": "markdown",
      "metadata": {
        "id": "-c4Z4W-w0p_7"
      },
      "source": [
        "¿Qué pasa si tratamos un diccionario como una lista?"
      ]
    },
    {
      "cell_type": "code",
      "execution_count": null,
      "metadata": {
        "id": "wsffc3PM0p_7"
      },
      "outputs": [],
      "source": [
        "dnis[0]"
      ]
    },
    {
      "cell_type": "markdown",
      "metadata": {
        "id": "J0emlHhT0p_7"
      },
      "source": [
        "Tenemos un error, tratemos de interpretarlo: KeyError se refierre a que no existe una llave (Key) a la que se trató de acceder. En este caso la llave que se trató de acceder es 0."
      ]
    },
    {
      "cell_type": "markdown",
      "metadata": {
        "id": "Y2IJ0LLq0p_7"
      },
      "source": [
        "Podemos ver todas las llaves:"
      ]
    },
    {
      "cell_type": "code",
      "execution_count": null,
      "metadata": {
        "id": "Cbit6MTM0p_7"
      },
      "outputs": [],
      "source": [
        "dnis.keys()"
      ]
    },
    {
      "cell_type": "markdown",
      "metadata": {
        "id": "ZDub92740p_7"
      },
      "source": [
        "Traer todos los pares de elementos:"
      ]
    },
    {
      "cell_type": "code",
      "execution_count": null,
      "metadata": {
        "id": "eSS34bSm0p_7"
      },
      "outputs": [],
      "source": [
        "dnis.items()"
      ]
    },
    {
      "cell_type": "markdown",
      "metadata": {
        "id": "CtWV4eUm0p_7"
      },
      "source": [
        "Y utilizar los mismos métodos para borrar y extrar como en las listas:"
      ]
    },
    {
      "cell_type": "code",
      "execution_count": null,
      "metadata": {
        "id": "oc_0TwGv0p_7"
      },
      "outputs": [],
      "source": [
        "dnis.pop('Herrera')"
      ]
    },
    {
      "cell_type": "markdown",
      "metadata": {
        "id": "ZGsCd7KN0p_7"
      },
      "source": [
        "Los diccionarios tienen longitud, de la misma forma que las listas y string"
      ]
    },
    {
      "cell_type": "code",
      "execution_count": null,
      "metadata": {
        "id": "vmwdD31c0p_7"
      },
      "outputs": [],
      "source": [
        "len(dnis)"
      ]
    },
    {
      "cell_type": "markdown",
      "metadata": {
        "id": "2mAOWm1P0p_7"
      },
      "source": [
        "## Condicionales <a name=\"section-9\"></a>\n",
        "\n",
        "El condicional tiene la siguiente sintáxis:\n",
        "\n",
        "    if CONDICIÓN:\n",
        "        código1\n",
        "    elif CONDICIÓN2:\n",
        "        código2\n",
        "    else:\n",
        "        código3\n",
        "\n",
        "Donde la condición es un operador que devuelve un objeto de tipo booleano. La **indentación** del código define qué parte se incluye como condicional.\n",
        "\n",
        "El término \"elif\" viene de \"else if\". La condición sólo se evaluará si la condición del \"if\" no se cumple."
      ]
    },
    {
      "cell_type": "code",
      "execution_count": null,
      "metadata": {
        "id": "s0_pEilc0p_7"
      },
      "outputs": [],
      "source": [
        "precio_dolar = 62\n",
        "\n",
        "if precio_dolar >= 90:\n",
        "    print(\"El dólar se fue por las nubes\")\n",
        "elif (precio_dolar < 90) and (precio_dolar >= 70):\n",
        "    print(\"El dolar subió\")\n",
        "else:\n",
        "    print(\"El dólar es menor a 70\")\n",
        "\n",
        "print(precio_dolar)"
      ]
    },
    {
      "cell_type": "markdown",
      "metadata": {
        "id": "mPWjb46F0p_7"
      },
      "source": [
        "## Bucles o Loops\n",
        "\n",
        "Los bucles son un tipo de sentencia donde se realiza el código contenido repetidamente. Existen dos tipos. En el bucle **for**, se **itera** o recorre un conjunto de elementos actuando por cada uno de ellos. En el bucle **while** se itera hasta que se cumple una condiciónn de corte."
      ]
    },
    {
      "cell_type": "markdown",
      "metadata": {
        "id": "aty42heC0p_8"
      },
      "source": [
        "### For loop"
      ]
    },
    {
      "cell_type": "code",
      "execution_count": null,
      "metadata": {
        "id": "pEw-PDU30p_8"
      },
      "outputs": [],
      "source": [
        "for n in [1,2,'3']:\n",
        "    print(f'EL tipo es {n*2} {type(n*2)}')"
      ]
    },
    {
      "cell_type": "code",
      "execution_count": null,
      "metadata": {
        "id": "TBfFDX7D0p_8"
      },
      "outputs": [],
      "source": [
        "lista = [1,2,3,4,5]\n",
        "\n",
        "for n in lista:\n",
        "    print(n * 2)"
      ]
    },
    {
      "cell_type": "markdown",
      "metadata": {
        "id": "7EAss2VU0p_8"
      },
      "source": [
        "También agreguemos la función **range** a nuestro repertorio. La función range consta de tres parámetros importante: start, stop, step. Si pasamos un sólo parámetro, estamos pasando el \"stop\" y tomamos 0 como valor default de \"start\". Del mismo modo que cuando vimos listas, el stop no está incluído y el step por default es 1.\n",
        "\n",
        "Veamos cómo funciona:"
      ]
    },
    {
      "cell_type": "code",
      "execution_count": null,
      "metadata": {
        "id": "Rnp-L9RH0p_8"
      },
      "outputs": [],
      "source": [
        "for n in range(5):\n",
        "    print(n)"
      ]
    },
    {
      "cell_type": "markdown",
      "metadata": {
        "id": "HF1Ejs070p_8"
      },
      "source": [
        "Si pasamos dos parámetros, estamos pasando el start y el stop, el primer valor es el \"start\" y el segundo el \"stop\"."
      ]
    },
    {
      "cell_type": "code",
      "execution_count": null,
      "metadata": {
        "id": "EcIaK5xx0p_8"
      },
      "outputs": [],
      "source": [
        "for n in range(0,5):\n",
        "    print(n)"
      ]
    },
    {
      "cell_type": "markdown",
      "metadata": {
        "id": "4YvgCxAI0p_8"
      },
      "source": [
        "Noten que el valor de start se incluye y el de stop no:"
      ]
    },
    {
      "cell_type": "code",
      "execution_count": null,
      "metadata": {
        "id": "YSnIhgPd0p_8"
      },
      "outputs": [],
      "source": [
        "for n in range(1, 6): # esto nos da el mismo resultado que un par de celdas más arriba\n",
        "    print(n * 2)"
      ]
    },
    {
      "cell_type": "markdown",
      "metadata": {
        "id": "MbBvX65D0p_8"
      },
      "source": [
        "Por último, el tercer parámetro es el step..."
      ]
    },
    {
      "cell_type": "markdown",
      "metadata": {
        "id": "Hjg9G56F0p_8"
      },
      "source": [
        "Ejercicios combinando lo visto hasta el momento:\n",
        "\n",
        "1- Imprimir los valores de 1 a 50, salteando de a un valor por vez...\n",
        "\n",
        "2- Dada la siguiente lista: medios = [\"cheques\", \"bonos\", \"acciones\", 1000, \"transferencia\"]. Acceder al 2do elemento, y luego al 3er elemento (de ese 2do elemento) y responder qué devulve.\n",
        "\n",
        "3- De manera similar, ahora accedan al 4to elemento, y luego al 3er elemento de éste, ¿qué ocurre?\n",
        "\n",
        "4- Agreguen una lista vacía al final de esa lista.\n",
        "\n",
        "5- Recorran *medios* (iteren) y si el tipo del elemento es string, hagan un print de su primer elemento, si es int (entero) pásenlo a string y hagan un print de su primer elemento y si no es nada de eso hagan un print que diga \"Es otro tipo\". Tip1: para pasar un elemento a tipo string pueden usar la función str(variable), donde variable es el elemento que quieren transformar. Tip2: para arrancar este ejercicio pueden copiar lo siguiente:"
      ]
    },
    {
      "cell_type": "code",
      "execution_count": null,
      "metadata": {
        "id": "38kIVAOq0p_8"
      },
      "outputs": [],
      "source": [
        "for medio in medios:\n",
        "    pass # pass no hace nada, sólo pasa sin ejecutar nada... Reemplácenlo y completen con las condiciones."
      ]
    },
    {
      "cell_type": "markdown",
      "metadata": {
        "id": "uycp0U750p_8"
      },
      "source": [
        "### While loop"
      ]
    },
    {
      "cell_type": "markdown",
      "metadata": {
        "id": "gEuTystI0p_8"
      },
      "source": [
        "Los bucles **while** se definen con una condición, y el código contenido se ejecuta mientras la misma evalue como True. Es importante definir correctamente cuándo la condición pasa de True a False, si no lo hacemos podemos dejar corriendo un programa infinitamente sin que corte. Si eso llega a suceder tienen un botón de stop arriba en la notebook."
      ]
    },
    {
      "cell_type": "code",
      "execution_count": null,
      "metadata": {
        "id": "Cz129atu0p_8"
      },
      "outputs": [],
      "source": [
        "contador = 0\n",
        "\n",
        "while contador < 20:\n",
        "    contador += 1 # esto equivale a count = count + 1\n",
        "    print(contador)"
      ]
    },
    {
      "cell_type": "markdown",
      "metadata": {
        "id": "ISh4hUt40p_8"
      },
      "source": [
        "---\n",
        "\n",
        "## Recursos y tips\n",
        "\n",
        "\n",
        "- [Google!](https://google.com)\n",
        "- [StackOverflow](https://stackoverflow.com)\n",
        "- [Google Colab](https://colab.research.google.com)\n",
        "- [Slicing](https://python-reference.readthedocs.io/en/latest/docs/brackets/slicing.html)\n",
        "---\n",
        "\n",
        "## Tips en la práctica\n",
        "\n",
        "- Ver _docstring_ con Shift + TAB o help()\n",
        "- Leer Errores\n",
        "- Print"
      ]
    },
    {
      "cell_type": "code",
      "execution_count": null,
      "metadata": {
        "id": "2RNytC4N0p_8"
      },
      "outputs": [],
      "source": []
    }
  ],
  "metadata": {
    "kernelspec": {
      "display_name": "conda_python3",
      "language": "python",
      "name": "conda_python3"
    },
    "language_info": {
      "codemirror_mode": {
        "name": "ipython",
        "version": 3
      },
      "file_extension": ".py",
      "mimetype": "text/x-python",
      "name": "python",
      "nbconvert_exporter": "python",
      "pygments_lexer": "ipython3",
      "version": "3.6.10"
    },
    "colab": {
      "provenance": [],
      "include_colab_link": true
    }
  },
  "nbformat": 4,
  "nbformat_minor": 0
}